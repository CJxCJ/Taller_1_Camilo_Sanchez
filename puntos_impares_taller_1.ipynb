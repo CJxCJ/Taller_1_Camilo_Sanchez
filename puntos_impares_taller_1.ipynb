{
 "cells": [
  {
   "cell_type": "markdown",
   "metadata": {},
   "source": [
    "# EJERCICIOS IMPARES  3, 5, 7, 9"
   ]
  },
  {
   "cell_type": "markdown",
   "metadata": {},
   "source": [
    "Ejercio #3: Realice un programa que lea un número enteros y determine si es par o impar."
   ]
  },
  {
   "cell_type": "code",
   "execution_count": 1,
   "metadata": {},
   "outputs": [
    {
     "name": "stdout",
     "output_type": "stream",
     "text": [
      "21 es impar\n"
     ]
    }
   ],
   "source": [
    "x = int(input(\"ingrese un numero entero: \"))\n",
    "\n",
    "if x % 2 == 0:\n",
    "  print(x, \"es par\")\n",
    "\n",
    "else:\n",
    "  print(x, \"es impar\")"
   ]
  },
  {
   "cell_type": "markdown",
   "metadata": {},
   "source": [
    "Ejercicio #5: Realice un programa que lea tres números reales y determine si la suma de los dos primeros es mayor, menor o igual que el tercer número.\n",
    "\n"
   ]
  },
  {
   "cell_type": "code",
   "execution_count": 3,
   "metadata": {},
   "outputs": [
    {
     "name": "stdout",
     "output_type": "stream",
     "text": [
      "la suma de  5.0 mas 5.0  es igual a 10.0\n"
     ]
    }
   ],
   "source": [
    "x = float(input(\"ingrese el primer numero: \"))\n",
    "y = float(input(\"ingrese el segundo numero: \"))\n",
    "z = float(input(\"ingrese el tercer numero: \"))\n",
    "\n",
    "if (x + y) > z:\n",
    "  print(x, \"sumado\" ,y, \"es mayor que\" ,z)\n",
    "\n",
    "elif (x + y) < z:\n",
    "  print(x, \"sumado\" ,y, \"es menor que\" ,z)\n",
    "\n",
    "else: \n",
    "  print(\"la suma de \",x, \"mas\" ,y, \" es igual a\" ,z,)"
   ]
  },
  {
   "cell_type": "markdown",
   "metadata": {},
   "source": [
    "Ejercicio #7: Escriba un programa que pida 5 números reales y calcule las siguientes operaciones:\n",
    "\n",
    "- El promedio\n",
    "- La mediana\n",
    "- El promedio multiplicativo (multilplica todos y luego calcula la raíz de la cantidad de operandos)\n",
    "- Ordenar los números de forma ascendente\n",
    "- Ordenar los números de forma descendente\n",
    "- La potencia del mayor número elevado al menor número\n",
    "- La raíz cúbica del menor número"
   ]
  },
  {
   "cell_type": "code",
   "execution_count": 2,
   "metadata": {},
   "outputs": [
    {
     "name": "stdout",
     "output_type": "stream",
     "text": [
      "10.6 es el promedio\n",
      "5.0 es la mediana\n",
      "7.28226 es el promedio multiplicativo\n",
      "[4.0, 4.0, 5.0, 8.0, 32.0] es el orden ascendete\n",
      "[32.0, 8.0, 5.0, 4.0, 4.0] es el orden descendente\n",
      "1048576.0 es la potencia del mayor elevado por el menor\n",
      "1.58740 es la raiz cubica del menor\n"
     ]
    }
   ],
   "source": [
    "v = float(input(\"ingrese el primer numero: \"))\n",
    "w = float(input(\"ingrese el segundo numero: \"))\n",
    "x = float(input(\"ingrese el tercer numero: \"))\n",
    "y = float(input(\"ingrese el cuarto numero: \"))\n",
    "z = float(input(\"ingrese el quinto numero: \"))\n",
    "\n",
    "prom = float(v + w + x + y + z)/5 \n",
    "\n",
    "orde = [v,w,x,y,z]\n",
    "\n",
    "orde.sort()\n",
    "\n",
    "medi = orde[2]\n",
    "\n",
    "geo = (v * w * x * y *z) ** (1/5)\n",
    "\n",
    "edro = [v,w,x,y,z]\n",
    "\n",
    "edro.sort(reverse=True)\n",
    "\n",
    "men = orde[0]\n",
    "may = edro[0]\n",
    "\n",
    "pot = (may**men)\n",
    "\n",
    "cub = men ** (1/3)\n",
    "\n",
    "\n",
    "print(prom, \"es el promedio\")\n",
    "\n",
    "print(medi, \"es la mediana\")\n",
    "\n",
    "print(\"{0:.5f}\".format(geo), \"es el promedio multiplicativo\")\n",
    "\n",
    "print(orde, \"es el orden ascendete\")\n",
    "\n",
    "print(edro, \"es el orden descendente\")\n",
    "\n",
    "print(pot, \"es la potencia del mayor elevado por el menor\")\n",
    "\n",
    "print(\"{0:.5f}\".format(cub), \"es la raiz cubica del menor\")"
   ]
  },
  {
   "cell_type": "markdown",
   "metadata": {},
   "source": [
    "Ejecicio #9: Escriba un programa que reciba el nombre en minúsculas de un país de America y retorne la ciudad capital, si el país no pertenece al continente debe arrojar \"país no identificado\"."
   ]
  },
  {
   "cell_type": "code",
   "execution_count": 1,
   "metadata": {},
   "outputs": [
    {
     "name": "stdout",
     "output_type": "stream",
     "text": [
      "BOGOTA es la capital de colombia\n"
     ]
    }
   ],
   "source": [
    "x = input(\"ingerese un pais de America en minusculas: \")\n",
    "\n",
    "if x == str(\"canada\"):\n",
    "  print(\"OTTAWA es la capital de\" ,x)\n",
    "  \n",
    "elif x == str(\"estados unidos\"):\n",
    "  print(\"WASHINGTON.DC es la capital de\" ,x)\n",
    "  \n",
    "elif x == str(\"mexico\"):\n",
    "  print(\"CIUDAD DE MEXICO es la capital de\" ,x)\n",
    "  \n",
    "elif x == str(\"belice\"):\n",
    "  print(\"BELMOPAN es la capital de\" ,x)\n",
    " \n",
    "elif x == str(\"guatemala\"):\n",
    "  print(\"CIUDAD DE GUATEMALA es la capital de\" ,x)\n",
    "  \n",
    "elif x == str(\"el salvador\"):\n",
    "  print(\"SAN SALVADOR es la capital de\" ,x)\n",
    "  \n",
    "elif x == str(\"honduras\"):\n",
    "  print(\"TEGUCIGALPA es la capital de\" ,x)\n",
    "  \n",
    "elif x == str(\"nicaragua\"):\n",
    "  print(\"MANAGUA es la capital de\" ,x)\n",
    "  \n",
    "elif x == str(\"costa rica\"):\n",
    "  print(\"SAN JOSE es la capital de\" ,x)\n",
    "  \n",
    "elif x == str(\"panama\"):\n",
    "  print(\"CIUDAD DE PANAMA es la capital de\" ,x)\n",
    "  \n",
    "elif x == str(\"cuba\"):\n",
    "  print(\"LA HABANA es la capital de\" ,x)\n",
    "  \n",
    "elif x == str(\"jamaica\"):\n",
    "  print(\"kingston es la capital de\" ,x)\n",
    "  \n",
    "elif x == str(\"haiti\"):\n",
    "  print(\"PUERTO PRINCIPE es la capital de\" ,x)\n",
    "  \n",
    "elif x == str(\"republica dominicana\"):\n",
    "  print(\"SANTO DOMINGO es la capital de\" ,x)\n",
    "  \n",
    "elif x == str(\"bahamas\"):\n",
    "  print(\"NASSAU es la capital de\" ,x)\n",
    "  \n",
    "elif x == str(\"puerto rico\"):\n",
    "  print(\"SAN JUAN es la capital de\" ,x)\n",
    "  \n",
    "elif x == str(\"antigua y barbuda\"):\n",
    "  print(\"SAINT JOHN´S es la capital de\" ,x)\n",
    "  \n",
    "elif x == str(\"dominica\"):\n",
    "  print(\"ROSEAU es la capital de\" ,x)\n",
    "  \n",
    "elif x == str(\"san cristobal y nieves\") or x == str(\"san cristobal\"):\n",
    "  print(\"BASSETERRE es la capital de\" ,x)\n",
    "  \n",
    "elif x == str(\"santa lucia\"):\n",
    "  print(\"CASTRIES es la capital de\" ,x)\n",
    "  \n",
    "elif x == str(\"san vicente y granadinas\") or x == str(\"san vicente\") or x == str(\"granadinas\"):\n",
    "  print(\"KINGSTOWN es la capital de\" ,x)\n",
    "  \n",
    "elif x == str(\"granada\"):\n",
    "  print(\"SAINT GEORGE´S es la capital de\" ,x)\n",
    "  \n",
    "elif x == str(\"barbados\"):\n",
    "  print(\"BRIDGETOWN es la capital de\" ,x)\n",
    "  \n",
    "elif x == str(\"trinidad y tobago\") or x == str(\"trinidad\") or x == str(\"tobago\"):\n",
    "  print(\"PUERTO ESPAÑA es la capital de\" ,x)\n",
    "  \n",
    "elif x == str(\"venezuela\"):\n",
    "  print(\"CARACAS es la capital de\" ,x)\n",
    "  \n",
    "elif x == str(\"colombia\"):\n",
    "  print(\"BOGOTA es la capital de\" ,x)\n",
    "  \n",
    "elif x == str(\"guayana\"):\n",
    "  print(\"GEORGETOWN es la capital de\" ,x)\n",
    "  \n",
    "elif x == str(\"surinam\"):\n",
    "  print(\"PARAMARIBO es la capital de\" ,x)\n",
    "  \n",
    "elif x == str(\"ecuador\"):\n",
    "  print(\"QUITO es la capital de\" ,x)\n",
    "  \n",
    "elif x == str(\"peru\"):\n",
    "  print(\"LIMA es la capital de\" ,x)\n",
    "  \n",
    "elif x == str(\"brasil\"):\n",
    "  print(\"BRASILIA es la capital de\" ,x)\n",
    "  \n",
    "elif x == str(\"bolivia\"):\n",
    "  print(\"SUCRE es la capital de\" ,x)\n",
    "  \n",
    "elif x == str(\"paraguay\"):\n",
    "  print(\"ASUNCION es la capital de\" ,x)\n",
    "  \n",
    "elif x == str(\"chile\"):\n",
    "  print(\"SANTIAGO es la capital de\" ,x)\n",
    "  \n",
    "elif x == str(\"argentina\"):\n",
    "  print(\"BUENOS AIRES es la capital de\" ,x)\n",
    "\n",
    "else:\n",
    "  print(\"Pais no identificado\")"
   ]
  }
 ],
 "metadata": {
  "kernelspec": {
   "display_name": "Python 3",
   "language": "python",
   "name": "python3"
  },
  "language_info": {
   "codemirror_mode": {
    "name": "ipython",
    "version": 3
   },
   "file_extension": ".py",
   "mimetype": "text/x-python",
   "name": "python",
   "nbconvert_exporter": "python",
   "pygments_lexer": "ipython3",
   "version": "3.11.5"
  },
  "orig_nbformat": 4
 },
 "nbformat": 4,
 "nbformat_minor": 2
}
